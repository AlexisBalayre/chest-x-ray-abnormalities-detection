{
 "cells": [
  {
   "cell_type": "code",
   "execution_count": 1,
   "metadata": {},
   "outputs": [],
   "source": [
    "import pandas as pd\n",
    "import numpy as np"
   ]
  },
  {
   "cell_type": "code",
   "execution_count": 2,
   "metadata": {},
   "outputs": [],
   "source": [
    "train_df = pd.read_csv(\"/Users/alexis/Cranfield/AI/assignment/data/train.csv\")\n",
    "val_df = pd.read_csv(\"/Users/alexis/Cranfield/AI/assignment/data/val.csv\")\n",
    "test_df = pd.read_csv(\"/Users/alexis/Cranfield/AI/assignment/data/test.csv\")"
   ]
  },
  {
   "cell_type": "code",
   "execution_count": 3,
   "metadata": {},
   "outputs": [
    {
     "data": {
      "text/html": [
       "<div>\n",
       "<style scoped>\n",
       "    .dataframe tbody tr th:only-of-type {\n",
       "        vertical-align: middle;\n",
       "    }\n",
       "\n",
       "    .dataframe tbody tr th {\n",
       "        vertical-align: top;\n",
       "    }\n",
       "\n",
       "    .dataframe thead th {\n",
       "        text-align: right;\n",
       "    }\n",
       "</style>\n",
       "<table border=\"1\" class=\"dataframe\">\n",
       "  <thead>\n",
       "    <tr style=\"text-align: right;\">\n",
       "      <th></th>\n",
       "      <th>image_id</th>\n",
       "      <th>class_name</th>\n",
       "      <th>rad_id</th>\n",
       "      <th>x_min</th>\n",
       "      <th>y_min</th>\n",
       "      <th>x_max</th>\n",
       "      <th>y_max</th>\n",
       "      <th>class_id</th>\n",
       "    </tr>\n",
       "  </thead>\n",
       "  <tbody>\n",
       "    <tr>\n",
       "      <th>0</th>\n",
       "      <td>8138c0bc649a534f449cf703475528ec</td>\n",
       "      <td>Cardiomegaly</td>\n",
       "      <td>R9</td>\n",
       "      <td>835.0</td>\n",
       "      <td>1298.0</td>\n",
       "      <td>1863.0</td>\n",
       "      <td>1662.0</td>\n",
       "      <td>3</td>\n",
       "    </tr>\n",
       "    <tr>\n",
       "      <th>1</th>\n",
       "      <td>e8e6ff19c3be05a4ccfb20abc4202d52</td>\n",
       "      <td>Pleural thickening</td>\n",
       "      <td>R10</td>\n",
       "      <td>1768.0</td>\n",
       "      <td>360.0</td>\n",
       "      <td>2130.0</td>\n",
       "      <td>532.0</td>\n",
       "      <td>11</td>\n",
       "    </tr>\n",
       "    <tr>\n",
       "      <th>2</th>\n",
       "      <td>de6d6efd88431d3253198106bb070471</td>\n",
       "      <td>No finding</td>\n",
       "      <td>R8</td>\n",
       "      <td>NaN</td>\n",
       "      <td>NaN</td>\n",
       "      <td>NaN</td>\n",
       "      <td>NaN</td>\n",
       "      <td>14</td>\n",
       "    </tr>\n",
       "    <tr>\n",
       "      <th>3</th>\n",
       "      <td>01ee6e560f083255a630c41bba779405</td>\n",
       "      <td>Pulmonary fibrosis</td>\n",
       "      <td>R8</td>\n",
       "      <td>1396.0</td>\n",
       "      <td>398.0</td>\n",
       "      <td>1523.0</td>\n",
       "      <td>567.0</td>\n",
       "      <td>13</td>\n",
       "    </tr>\n",
       "    <tr>\n",
       "      <th>4</th>\n",
       "      <td>da668869900c862ce12bd06fde5feb8d</td>\n",
       "      <td>Pulmonary fibrosis</td>\n",
       "      <td>R9</td>\n",
       "      <td>1780.0</td>\n",
       "      <td>347.0</td>\n",
       "      <td>2467.0</td>\n",
       "      <td>1246.0</td>\n",
       "      <td>13</td>\n",
       "    </tr>\n",
       "  </tbody>\n",
       "</table>\n",
       "</div>"
      ],
      "text/plain": [
       "                           image_id          class_name rad_id   x_min  \\\n",
       "0  8138c0bc649a534f449cf703475528ec        Cardiomegaly     R9   835.0   \n",
       "1  e8e6ff19c3be05a4ccfb20abc4202d52  Pleural thickening    R10  1768.0   \n",
       "2  de6d6efd88431d3253198106bb070471          No finding     R8     NaN   \n",
       "3  01ee6e560f083255a630c41bba779405  Pulmonary fibrosis     R8  1396.0   \n",
       "4  da668869900c862ce12bd06fde5feb8d  Pulmonary fibrosis     R9  1780.0   \n",
       "\n",
       "    y_min   x_max   y_max  class_id  \n",
       "0  1298.0  1863.0  1662.0         3  \n",
       "1   360.0  2130.0   532.0        11  \n",
       "2     NaN     NaN     NaN        14  \n",
       "3   398.0  1523.0   567.0        13  \n",
       "4   347.0  2467.0  1246.0        13  "
      ]
     },
     "execution_count": 3,
     "metadata": {},
     "output_type": "execute_result"
    }
   ],
   "source": [
    "train_df.head()"
   ]
  },
  {
   "cell_type": "code",
   "execution_count": 4,
   "metadata": {},
   "outputs": [
    {
     "data": {
      "text/html": [
       "<div>\n",
       "<style scoped>\n",
       "    .dataframe tbody tr th:only-of-type {\n",
       "        vertical-align: middle;\n",
       "    }\n",
       "\n",
       "    .dataframe tbody tr th {\n",
       "        vertical-align: top;\n",
       "    }\n",
       "\n",
       "    .dataframe thead th {\n",
       "        text-align: right;\n",
       "    }\n",
       "</style>\n",
       "<table border=\"1\" class=\"dataframe\">\n",
       "  <thead>\n",
       "    <tr style=\"text-align: right;\">\n",
       "      <th></th>\n",
       "      <th>image_id</th>\n",
       "      <th>class_name</th>\n",
       "      <th>rad_id</th>\n",
       "      <th>x_min</th>\n",
       "      <th>y_min</th>\n",
       "      <th>x_max</th>\n",
       "      <th>y_max</th>\n",
       "      <th>class_id</th>\n",
       "    </tr>\n",
       "  </thead>\n",
       "  <tbody>\n",
       "    <tr>\n",
       "      <th>0</th>\n",
       "      <td>a6bcb9f5d59588d699c5aa83cd3039c7</td>\n",
       "      <td>Nodule/Mass</td>\n",
       "      <td>R10</td>\n",
       "      <td>1801.0</td>\n",
       "      <td>706.0</td>\n",
       "      <td>1890.0</td>\n",
       "      <td>785.0</td>\n",
       "      <td>8</td>\n",
       "    </tr>\n",
       "    <tr>\n",
       "      <th>1</th>\n",
       "      <td>4d0664ac3d522bb232afecc65ebb40ca</td>\n",
       "      <td>No finding</td>\n",
       "      <td>R4</td>\n",
       "      <td>NaN</td>\n",
       "      <td>NaN</td>\n",
       "      <td>NaN</td>\n",
       "      <td>NaN</td>\n",
       "      <td>14</td>\n",
       "    </tr>\n",
       "    <tr>\n",
       "      <th>2</th>\n",
       "      <td>5806d4429fb183d924976bfd1dfbd4d9</td>\n",
       "      <td>No finding</td>\n",
       "      <td>R15</td>\n",
       "      <td>NaN</td>\n",
       "      <td>NaN</td>\n",
       "      <td>NaN</td>\n",
       "      <td>NaN</td>\n",
       "      <td>14</td>\n",
       "    </tr>\n",
       "    <tr>\n",
       "      <th>3</th>\n",
       "      <td>89c2a2ceb6ecf060afecbd7ed85fd24d</td>\n",
       "      <td>No finding</td>\n",
       "      <td>R2</td>\n",
       "      <td>NaN</td>\n",
       "      <td>NaN</td>\n",
       "      <td>NaN</td>\n",
       "      <td>NaN</td>\n",
       "      <td>14</td>\n",
       "    </tr>\n",
       "    <tr>\n",
       "      <th>4</th>\n",
       "      <td>00675cd546313f912cadd4ad54415d69</td>\n",
       "      <td>Cardiomegaly</td>\n",
       "      <td>R9</td>\n",
       "      <td>984.0</td>\n",
       "      <td>1486.0</td>\n",
       "      <td>2217.0</td>\n",
       "      <td>1941.0</td>\n",
       "      <td>3</td>\n",
       "    </tr>\n",
       "  </tbody>\n",
       "</table>\n",
       "</div>"
      ],
      "text/plain": [
       "                           image_id    class_name rad_id   x_min   y_min  \\\n",
       "0  a6bcb9f5d59588d699c5aa83cd3039c7   Nodule/Mass    R10  1801.0   706.0   \n",
       "1  4d0664ac3d522bb232afecc65ebb40ca    No finding     R4     NaN     NaN   \n",
       "2  5806d4429fb183d924976bfd1dfbd4d9    No finding    R15     NaN     NaN   \n",
       "3  89c2a2ceb6ecf060afecbd7ed85fd24d    No finding     R2     NaN     NaN   \n",
       "4  00675cd546313f912cadd4ad54415d69  Cardiomegaly     R9   984.0  1486.0   \n",
       "\n",
       "    x_max   y_max  class_id  \n",
       "0  1890.0   785.0         8  \n",
       "1     NaN     NaN        14  \n",
       "2     NaN     NaN        14  \n",
       "3     NaN     NaN        14  \n",
       "4  2217.0  1941.0         3  "
      ]
     },
     "execution_count": 4,
     "metadata": {},
     "output_type": "execute_result"
    }
   ],
   "source": [
    "val_df.head()"
   ]
  },
  {
   "cell_type": "code",
   "execution_count": 5,
   "metadata": {},
   "outputs": [
    {
     "data": {
      "text/html": [
       "<div>\n",
       "<style scoped>\n",
       "    .dataframe tbody tr th:only-of-type {\n",
       "        vertical-align: middle;\n",
       "    }\n",
       "\n",
       "    .dataframe tbody tr th {\n",
       "        vertical-align: top;\n",
       "    }\n",
       "\n",
       "    .dataframe thead th {\n",
       "        text-align: right;\n",
       "    }\n",
       "</style>\n",
       "<table border=\"1\" class=\"dataframe\">\n",
       "  <thead>\n",
       "    <tr style=\"text-align: right;\">\n",
       "      <th></th>\n",
       "      <th>image_id</th>\n",
       "      <th>class_name</th>\n",
       "      <th>rad_id</th>\n",
       "      <th>x_min</th>\n",
       "      <th>y_min</th>\n",
       "      <th>x_max</th>\n",
       "      <th>y_max</th>\n",
       "      <th>class_id</th>\n",
       "    </tr>\n",
       "  </thead>\n",
       "  <tbody>\n",
       "    <tr>\n",
       "      <th>0</th>\n",
       "      <td>27b822c5d3b354f096dfb788fd3fa636</td>\n",
       "      <td>Nodule/Mass</td>\n",
       "      <td>R10</td>\n",
       "      <td>277.0</td>\n",
       "      <td>602.0</td>\n",
       "      <td>1177.0</td>\n",
       "      <td>2417.0</td>\n",
       "      <td>8</td>\n",
       "    </tr>\n",
       "    <tr>\n",
       "      <th>1</th>\n",
       "      <td>d2ca714f8f06979acfbc0992d65fb211</td>\n",
       "      <td>No finding</td>\n",
       "      <td>R3</td>\n",
       "      <td>NaN</td>\n",
       "      <td>NaN</td>\n",
       "      <td>NaN</td>\n",
       "      <td>NaN</td>\n",
       "      <td>14</td>\n",
       "    </tr>\n",
       "    <tr>\n",
       "      <th>2</th>\n",
       "      <td>19367e88f4634c2652d3eed0a2f1f8b2</td>\n",
       "      <td>No finding</td>\n",
       "      <td>R15</td>\n",
       "      <td>NaN</td>\n",
       "      <td>NaN</td>\n",
       "      <td>NaN</td>\n",
       "      <td>NaN</td>\n",
       "      <td>14</td>\n",
       "    </tr>\n",
       "    <tr>\n",
       "      <th>3</th>\n",
       "      <td>852ec6a0bcb9608ffee9b3fda0867f91</td>\n",
       "      <td>Aortic enlargement</td>\n",
       "      <td>R8</td>\n",
       "      <td>1669.0</td>\n",
       "      <td>896.0</td>\n",
       "      <td>1972.0</td>\n",
       "      <td>1326.0</td>\n",
       "      <td>0</td>\n",
       "    </tr>\n",
       "    <tr>\n",
       "      <th>4</th>\n",
       "      <td>aa9c3097e6d2df7216be1a1642f683c9</td>\n",
       "      <td>No finding</td>\n",
       "      <td>R5</td>\n",
       "      <td>NaN</td>\n",
       "      <td>NaN</td>\n",
       "      <td>NaN</td>\n",
       "      <td>NaN</td>\n",
       "      <td>14</td>\n",
       "    </tr>\n",
       "  </tbody>\n",
       "</table>\n",
       "</div>"
      ],
      "text/plain": [
       "                           image_id          class_name rad_id   x_min  y_min  \\\n",
       "0  27b822c5d3b354f096dfb788fd3fa636         Nodule/Mass    R10   277.0  602.0   \n",
       "1  d2ca714f8f06979acfbc0992d65fb211          No finding     R3     NaN    NaN   \n",
       "2  19367e88f4634c2652d3eed0a2f1f8b2          No finding    R15     NaN    NaN   \n",
       "3  852ec6a0bcb9608ffee9b3fda0867f91  Aortic enlargement     R8  1669.0  896.0   \n",
       "4  aa9c3097e6d2df7216be1a1642f683c9          No finding     R5     NaN    NaN   \n",
       "\n",
       "    x_max   y_max  class_id  \n",
       "0  1177.0  2417.0         8  \n",
       "1     NaN     NaN        14  \n",
       "2     NaN     NaN        14  \n",
       "3  1972.0  1326.0         0  \n",
       "4     NaN     NaN        14  "
      ]
     },
     "execution_count": 5,
     "metadata": {},
     "output_type": "execute_result"
    }
   ],
   "source": [
    "test_df.head()"
   ]
  },
  {
   "cell_type": "code",
   "execution_count": 6,
   "metadata": {},
   "outputs": [
    {
     "name": "stdout",
     "output_type": "stream",
     "text": [
      "Training size: (51953, 8)\n",
      "Validation size : (5773, 8)\n",
      "Test size:  (10188, 8)\n"
     ]
    }
   ],
   "source": [
    "print(\"Training size:\", train_df.shape)\n",
    "print(\"Validation size :\", val_df.shape)\n",
    "print(\"Test size: \", test_df.shape)"
   ]
  },
  {
   "cell_type": "code",
   "execution_count": 7,
   "metadata": {},
   "outputs": [
    {
     "name": "stdout",
     "output_type": "stream",
     "text": [
      "Training labels: [ 5479   213   734  4152   426   765   954  1899  1974  1685  1894  3704\n",
      "   173  3561 24340]\n",
      "Validation labels: [ 609   24   82  461   47   85  106  211  219  187  210  412   19  396\n",
      " 2705]\n",
      "Test labels: [1074   42  144  814   83  150  187  373  387  331  372  726   34  698\n",
      " 4773]\n"
     ]
    }
   ],
   "source": [
    "import numpy as np\n",
    "\n",
    "print(\"Training labels:\", np.bincount(train_df['class_id']))\n",
    "print(\"Validation labels:\", np.bincount(val_df['class_id']))\n",
    "print(\"Test labels:\", np.bincount(test_df['class_id']))"
   ]
  },
  {
   "cell_type": "markdown",
   "metadata": {},
   "source": [
    "### Labels Distribution"
   ]
  },
  {
   "cell_type": "code",
   "execution_count": 8,
   "metadata": {},
   "outputs": [
    {
     "data": {
      "image/png": "[encoded data removed]",
      "text/plain": [
       "<Figure size 1000x500 with 1 Axes>"
      ]
     },
     "metadata": {},
     "output_type": "display_data"
    }
   ],
   "source": [
    "import seaborn as sns\n",
    "import matplotlib.pyplot as plt\n",
    "\n",
    "classes = train_df['class_id'].unique()\n",
    "classes.sort()\n",
    "class_counts = train_df['class_id'].value_counts().sort_index()\n",
    "plt.figure(figsize=(10, 5))\n",
    "sns.barplot(x=class_counts.index, y=class_counts.values)\n",
    "plt.title('Class distribution in the training set', fontsize=15)\n",
    "plt.ylabel('Number of Occurrences', fontsize=12)\n",
    "plt.xlabel('Class ID', fontsize=12)\n",
    "plt.show()"
   ]
  },
  {
   "cell_type": "code",
   "execution_count": 9,
   "metadata": {},
   "outputs": [
    {
     "name": "stdout",
     "output_type": "stream",
     "text": [
      "Training set class distribution\n"
     ]
    },
    {
     "data": {
      "text/plain": [
       "class_id\n",
       "0      5479\n",
       "1       213\n",
       "2       734\n",
       "3      4152\n",
       "4       426\n",
       "5       765\n",
       "6       954\n",
       "7      1899\n",
       "8      1974\n",
       "9      1685\n",
       "10     1894\n",
       "11     3704\n",
       "12      173\n",
       "13     3561\n",
       "14    24340\n",
       "Name: count, dtype: int64"
      ]
     },
     "execution_count": 9,
     "metadata": {},
     "output_type": "execute_result"
    }
   ],
   "source": [
    "print(\"Training set class distribution\")\n",
    "train_df['class_id'].value_counts().sort_index()"
   ]
  },
  {
   "cell_type": "markdown",
   "metadata": {},
   "source": [
    "### Zero-rule baseline (majority class classifier)"
   ]
  },
  {
   "cell_type": "code",
   "execution_count": 10,
   "metadata": {},
   "outputs": [
    {
     "name": "stdout",
     "output_type": "stream",
     "text": [
      "\n",
      "Training label distribution:\n",
      "[(0, 5479), (1, 213), (2, 734), (3, 4152), (4, 426), (5, 765), (6, 954), (7, 1899), (8, 1974), (9, 1685), (10, 1894), (11, 3704), (12, 173), (13, 3561), (14, 24340)]\n",
      "\n",
      "Validation label distribution:\n",
      "[(0, 609), (1, 24), (2, 82), (3, 461), (4, 47), (5, 85), (6, 106), (7, 211), (8, 219), (9, 187), (10, 210), (11, 412), (12, 19), (13, 396), (14, 2705)]\n",
      "\n",
      "Test label distribution:\n",
      "[(0, 1074), (1, 42), (2, 144), (3, 814), (4, 83), (5, 150), (6, 187), (7, 373), (8, 387), (9, 331), (10, 372), (11, 726), (12, 34), (13, 698), (14, 4773)]\n"
     ]
    }
   ],
   "source": [
    "from collections import Counter\n",
    "\n",
    "train_counter = Counter()\n",
    "for class_id in train_df['class_id']:\n",
    "    train_counter.update([class_id])\n",
    "\n",
    "val_counter = Counter()\n",
    "for class_id in val_df['class_id']:\n",
    "    val_counter.update([class_id])\n",
    "\n",
    "test_counter = Counter()\n",
    "for class_id in test_df['class_id']:\n",
    "    test_counter.update([class_id])\n",
    "\n",
    "print(\"\\nTraining label distribution:\")\n",
    "print(sorted(train_counter.items()))\n",
    "\n",
    "print(\"\\nValidation label distribution:\")\n",
    "print(sorted(val_counter.items()))\n",
    "\n",
    "print(\"\\nTest label distribution:\")\n",
    "print(sorted(test_counter.items()))"
   ]
  },
  {
   "cell_type": "code",
   "execution_count": 11,
   "metadata": {},
   "outputs": [
    {
     "name": "stdout",
     "output_type": "stream",
     "text": [
      "Majority class: 14\n",
      "Accuracy when always predicting the majority class:\n",
      "0.47 (46.85%)\n"
     ]
    }
   ],
   "source": [
    "majority_class = test_counter.most_common(1)[0]\n",
    "print(\"Majority class:\", majority_class[0])\n",
    "\n",
    "baseline_acc = majority_class[1] / sum(test_counter.values())\n",
    "print(\"Accuracy when always predicting the majority class:\")\n",
    "print(f\"{baseline_acc:.2f} ({baseline_acc*100:.2f}%)\")"
   ]
  },
  {
   "cell_type": "code",
   "execution_count": 12,
   "metadata": {},
   "outputs": [
    {
     "data": {
      "text/plain": [
       "<torch._C.Generator at 0x17f48b4f0>"
      ]
     },
     "execution_count": 12,
     "metadata": {},
     "output_type": "execute_result"
    }
   ],
   "source": [
    "import torch\n",
    "\n",
    "torch.manual_seed(123)"
   ]
  },
  {
   "cell_type": "code",
   "execution_count": 13,
   "metadata": {},
   "outputs": [],
   "source": [
    "from ChestXrayDataModule import ChestXrayDataModule\n",
    "\n",
    "train_df_path = \"/Users/alexis/Cranfield/AI/assignment/data/train.csv\"\n",
    "val_df_path = \"/Users/alexis/Cranfield/AI/assignment/data/val.csv\"\n",
    "test_df_path = \"/Users/alexis/Cranfield/AI/assignment/data/test.csv\"\n",
    "hdf5_path = \"/Volumes/ALEXIS/ai_project_cranfield/dicom_images_final.hdf5\"\n",
    "\n",
    "dataModule = ChestXrayDataModule(\n",
    "    train_dataset_path=train_df_path,\n",
    "    val_dataset_path=val_df_path,\n",
    "    test_dataset_path=test_df_path,\n",
    "    hdf5_path=hdf5_path,\n",
    "    batch_size=4,\n",
    "    num_workers=8\n",
    ")"
   ]
  },
  {
   "cell_type": "code",
   "execution_count": 14,
   "metadata": {},
   "outputs": [
    {
     "ename": "ValueError",
     "evalue": "Expected argument `iou_thresholds` to either be `None` or a list of floats but got 0.4",
     "output_type": "error",
     "traceback": [
      "\u001b[0;31m---------------------------------------------------------------------------\u001b[0m",
      "\u001b[0;31mValueError\u001b[0m                                Traceback (most recent call last)",
      "Cell \u001b[0;32mIn[14], line 3\u001b[0m\n\u001b[1;32m      1\u001b[0m \u001b[38;5;28;01mfrom\u001b[39;00m \u001b[38;5;21;01mChestXrayLightningModel\u001b[39;00m \u001b[38;5;28;01mimport\u001b[39;00m ChestXrayLightningModel\n\u001b[0;32m----> 3\u001b[0m model \u001b[38;5;241m=\u001b[39m \u001b[43mChestXrayLightningModel\u001b[49m\u001b[43m(\u001b[49m\n\u001b[1;32m      4\u001b[0m \u001b[43m    \u001b[49m\u001b[43mlearning_rate\u001b[49m\u001b[38;5;241;43m=\u001b[39;49m\u001b[38;5;241;43m0.005\u001b[39;49m\u001b[43m,\u001b[49m\n\u001b[1;32m      5\u001b[0m \u001b[43m    \u001b[49m\u001b[43mnum_classes\u001b[49m\u001b[38;5;241;43m=\u001b[39;49m\u001b[38;5;241;43m15\u001b[39;49m\n\u001b[1;32m      6\u001b[0m \u001b[43m)\u001b[49m\n",
      "File \u001b[0;32m~/Cranfield/AI/assignment/Faster-R-CNN/ChestXrayLightningModel.py:25\u001b[0m, in \u001b[0;36mChestXrayLightningModel.__init__\u001b[0;34m(self, num_classes, learning_rate)\u001b[0m\n\u001b[1;32m     21\u001b[0m \u001b[38;5;28mself\u001b[39m\u001b[38;5;241m.\u001b[39mmodel\u001b[38;5;241m.\u001b[39mroi_heads\u001b[38;5;241m.\u001b[39mbox_predictor \u001b[38;5;241m=\u001b[39m FastRCNNPredictor(in_features, num_classes)\n\u001b[1;32m     23\u001b[0m \u001b[38;5;28mself\u001b[39m\u001b[38;5;241m.\u001b[39mlearning_rate \u001b[38;5;241m=\u001b[39m learning_rate\n\u001b[0;32m---> 25\u001b[0m \u001b[38;5;28mself\u001b[39m\u001b[38;5;241m.\u001b[39mval_metric \u001b[38;5;241m=\u001b[39m \u001b[43mMeanAveragePrecision\u001b[49m\u001b[43m(\u001b[49m\u001b[43miou_type\u001b[49m\u001b[38;5;241;43m=\u001b[39;49m\u001b[38;5;124;43m\"\u001b[39;49m\u001b[38;5;124;43mbbox\u001b[39;49m\u001b[38;5;124;43m\"\u001b[39;49m\u001b[43m,\u001b[49m\u001b[43m \u001b[49m\u001b[43mclass_metrics\u001b[49m\u001b[38;5;241;43m=\u001b[39;49m\u001b[38;5;28;43;01mTrue\u001b[39;49;00m\u001b[43m,\u001b[49m\u001b[43m \u001b[49m\u001b[43miou_thresholds\u001b[49m\u001b[38;5;241;43m=\u001b[39;49m\u001b[38;5;241;43m0.4\u001b[39;49m\u001b[43m)\u001b[49m\n\u001b[1;32m     27\u001b[0m \u001b[38;5;28mself\u001b[39m\u001b[38;5;241m.\u001b[39mcosine_t_max \u001b[38;5;241m=\u001b[39m \u001b[38;5;241m10\u001b[39m\n\u001b[1;32m     28\u001b[0m \u001b[38;5;28mself\u001b[39m\u001b[38;5;241m.\u001b[39msave_hyperparameters(ignore\u001b[38;5;241m=\u001b[39m[\u001b[38;5;124m\"\u001b[39m\u001b[38;5;124mmodel\u001b[39m\u001b[38;5;124m\"\u001b[39m])\n",
      "File \u001b[0;32m~/Cranfield/AI/assignment/chest-x-ray-abnormalities-detection/lib/python3.11/site-packages/torchmetrics/detection/mean_ap.py:399\u001b[0m, in \u001b[0;36mMeanAveragePrecision.__init__\u001b[0;34m(self, box_format, iou_type, iou_thresholds, rec_thresholds, max_detection_thresholds, class_metrics, extended_summary, average, backend, **kwargs)\u001b[0m\n\u001b[1;32m    396\u001b[0m \u001b[38;5;28mself\u001b[39m\u001b[38;5;241m.\u001b[39miou_type \u001b[38;5;241m=\u001b[39m _validate_iou_type_arg(iou_type)\n\u001b[1;32m    398\u001b[0m \u001b[38;5;28;01mif\u001b[39;00m iou_thresholds \u001b[38;5;129;01mis\u001b[39;00m \u001b[38;5;129;01mnot\u001b[39;00m \u001b[38;5;28;01mNone\u001b[39;00m \u001b[38;5;129;01mand\u001b[39;00m \u001b[38;5;129;01mnot\u001b[39;00m \u001b[38;5;28misinstance\u001b[39m(iou_thresholds, \u001b[38;5;28mlist\u001b[39m):\n\u001b[0;32m--> 399\u001b[0m     \u001b[38;5;28;01mraise\u001b[39;00m \u001b[38;5;167;01mValueError\u001b[39;00m(\n\u001b[1;32m    400\u001b[0m         \u001b[38;5;124mf\u001b[39m\u001b[38;5;124m\"\u001b[39m\u001b[38;5;124mExpected argument `iou_thresholds` to either be `None` or a list of floats but got \u001b[39m\u001b[38;5;132;01m{\u001b[39;00miou_thresholds\u001b[38;5;132;01m}\u001b[39;00m\u001b[38;5;124m\"\u001b[39m\n\u001b[1;32m    401\u001b[0m     )\n\u001b[1;32m    402\u001b[0m \u001b[38;5;28mself\u001b[39m\u001b[38;5;241m.\u001b[39miou_thresholds \u001b[38;5;241m=\u001b[39m iou_thresholds \u001b[38;5;129;01mor\u001b[39;00m torch\u001b[38;5;241m.\u001b[39mlinspace(\u001b[38;5;241m0.5\u001b[39m, \u001b[38;5;241m0.95\u001b[39m, \u001b[38;5;28mround\u001b[39m((\u001b[38;5;241m0.95\u001b[39m \u001b[38;5;241m-\u001b[39m \u001b[38;5;241m0.5\u001b[39m) \u001b[38;5;241m/\u001b[39m \u001b[38;5;241m0.05\u001b[39m) \u001b[38;5;241m+\u001b[39m \u001b[38;5;241m1\u001b[39m)\u001b[38;5;241m.\u001b[39mtolist()\n\u001b[1;32m    404\u001b[0m \u001b[38;5;28;01mif\u001b[39;00m rec_thresholds \u001b[38;5;129;01mis\u001b[39;00m \u001b[38;5;129;01mnot\u001b[39;00m \u001b[38;5;28;01mNone\u001b[39;00m \u001b[38;5;129;01mand\u001b[39;00m \u001b[38;5;129;01mnot\u001b[39;00m \u001b[38;5;28misinstance\u001b[39m(rec_thresholds, \u001b[38;5;28mlist\u001b[39m):\n",
      "\u001b[0;31mValueError\u001b[0m: Expected argument `iou_thresholds` to either be `None` or a list of floats but got 0.4"
     ]
    }
   ],
   "source": [
    "from ChestXrayLightningModel import ChestXrayLightningModel\n",
    "\n",
    "model = ChestXrayLightningModel(\n",
    "    learning_rate=0.005,\n",
    "    num_classes=15\n",
    ")"
   ]
  },
  {
   "cell_type": "code",
   "execution_count": null,
   "metadata": {},
   "outputs": [],
   "source": [
    "import lightning as L\n",
    "\n",
    "trainer = L.Trainer(\n",
    "    max_epochs=10,\n",
    "    accelerator=\"gpu\",\n",
    "    devices=\"auto\",\n",
    "    deterministic=True,\n",
    ")"
   ]
  },
  {
   "cell_type": "code",
   "execution_count": null,
   "metadata": {},
   "outputs": [],
   "source": [
    "\"\"\" model.train()\n",
    "dataModule.setup(\"fit\")\n",
    "trainer.fit(model, datamodule=dataModule) \"\"\""
   ]
  },
  {
   "cell_type": "code",
   "execution_count": null,
   "metadata": {},
   "outputs": [],
   "source": [
    "dataModule.setup(\"test\")"
   ]
  },
  {
   "cell_type": "code",
   "execution_count": null,
   "metadata": {},
   "outputs": [],
   "source": [
    "import numpy as np\n",
    "\n",
    "\n",
    "def format_prediction_string(labels, boxes, scores):\n",
    "    pred_strings = []\n",
    "    for j in zip(labels, scores, boxes):\n",
    "        pred_strings.append(\n",
    "            \"{0} {1:.4f} {2} {3} {4} {5}\".format(\n",
    "                j[0], j[1], j[2][0], j[2][1], j[2][2], j[2][3]\n",
    "            )\n",
    "        )\n",
    "    return \" \".join(pred_strings)"
   ]
  },
  {
   "cell_type": "code",
   "execution_count": null,
   "metadata": {},
   "outputs": [],
   "source": [
    "model = ChestXrayLightningModel.load_from_checkpoint(\n",
    "    \"/Users/alexis/Cranfield/AI/assignment/Faster-R-CNN/model/version_14/checkpoints/epoch=9-step=9260.ckpt\",\n",
    "    num_classes=15,\n",
    ")"
   ]
  },
  {
   "cell_type": "code",
   "execution_count": null,
   "metadata": {},
   "outputs": [],
   "source": [
    "detection_threshold = 0.4\n",
    "results = []\n",
    "model.model.eval()"
   ]
  },
  {
   "cell_type": "code",
   "execution_count": null,
   "metadata": {},
   "outputs": [],
   "source": [
    "# Ensure the model is on GPU if available\n",
    "model.to('cuda' if torch.cuda.is_available() else 'cpu')"
   ]
  },
  {
   "cell_type": "code",
   "execution_count": null,
   "metadata": {},
   "outputs": [],
   "source": [
    "from tqdm import tqdm\n",
    "\n",
    "results = []\n",
    "with torch.inference_mode():\n",
    "    for image_ids, images, _ in tqdm(dataModule.test_dataloader(), desc=\"Evaluating\"):\n",
    "        outputs = model(images)\n",
    "        for i, output in enumerate(outputs):\n",
    "            image_id = image_ids[i]\n",
    "            result = {\"image_id\": image_id, \"PredictionString\": \"14 1.0 0 0 1 1\"}\n",
    "\n",
    "            boxes = output[\"boxes\"].data.cpu().numpy()\n",
    "            labels = output[\"labels\"].data.cpu().numpy() - 1\n",
    "            scores = output[\"scores\"].data.cpu().numpy()\n",
    "\n",
    "            # Assuming detection_threshold is defined\n",
    "            valid = scores >= detection_threshold\n",
    "\n",
    "            if valid.any():\n",
    "                result = {\n",
    "                    \"image_id\": image_id,\n",
    "                    \"PredictionString\": format_prediction_string(\n",
    "                        labels[valid], boxes[valid], scores[valid]\n",
    "                    ),\n",
    "                }\n",
    "            \n",
    "            print(result)\n",
    "\n",
    "            results.append(result)\n",
    "\n",
    "\n",
    "df = pd.DataFrame(results, columns=[\"image_id\", \"PredictionString\"])"
   ]
  },
  {
   "cell_type": "code",
   "execution_count": null,
   "metadata": {},
   "outputs": [],
   "source": [
    "\"\"\" model = ChestXrayLightningModel.load_from_checkpoint(\n",
    "    \"/Users/alexis/Cranfield/AI/assignment/Faster-R-CNN/model/epoch=9-step=9260.ckpt\",\n",
    "    num_classes=15,\n",
    ")\n",
    "\n",
    "dataModule.setup(\"test\")    \n",
    "train_acc = trainer.test(dataloaders=dataModule.test_dataloader(), model=model) \"\"\""
   ]
  },
  {
   "cell_type": "code",
   "execution_count": null,
   "metadata": {},
   "outputs": [],
   "source": [
    "import matplotlib.pyplot as plt\n",
    "import matplotlib.patches as patches\n",
    "\n",
    "def show_image_with_boxes(image, boxes, labels=None, figsize=(10, 10)):\n",
    "    \"\"\"\n",
    "    Visualize an image with its bounding boxes.\n",
    "\n",
    "    Parameters:\n",
    "    - image: a PIL.Image or numpy array of the image.\n",
    "    - boxes: a list of bounding boxes, each defined by a list of four values [x_min, y_min, x_max, y_max].\n",
    "    - labels: (Optional) a list of labels for each bounding box.\n",
    "    - figsize: size of the figure to display.\n",
    "    \"\"\"\n",
    "    # If the image is a torch tensor, convert it to a numpy array\n",
    "    if torch.is_tensor(image):\n",
    "        image = image.numpy().transpose((1, 2, 0))\n",
    "    elif isinstance(image, Image.Image):\n",
    "        image = np.array(image)\n",
    "\n",
    "    # Normalize the image array to 0-1 range if it's not already\n",
    "    if image.max() > 1.0:\n",
    "        image = image / 255\n",
    "\n",
    "    fig, ax = plt.subplots(1, figsize=figsize)\n",
    "    ax.imshow(image)\n",
    "\n",
    "    for i, box in enumerate(boxes):\n",
    "        x_min, y_min, x_max, y_max = box\n",
    "        width, height = x_max - x_min, y_max - y_min\n",
    "\n",
    "        rect = patches.Rectangle((x_min, y_min), width, height, linewidth=2,\n",
    "                                 edgecolor='r', facecolor='none')\n",
    "        ax.add_patch(rect)\n",
    "\n",
    "        if labels is not None and i < len(labels):\n",
    "            label = labels[i]\n",
    "            plt.text(x_min, y_min, str(label), color='white', fontsize=12, bbox=dict(facecolor='red', alpha=0.5))\n",
    "\n",
    "    plt.axis('off')\n",
    "    plt.show()\n"
   ]
  },
  {
   "cell_type": "code",
   "execution_count": null,
   "metadata": {},
   "outputs": [],
   "source": [
    "import matplotlib.pyplot as plt\n",
    "import numpy as np\n",
    "import torchvision\n",
    "\n",
    "dataModule.setup(\"fit\")\n",
    "\n",
    "for images, targets in dataModule.train_dataloader():  \n",
    "    break\n",
    "\n"
   ]
  },
  {
   "cell_type": "code",
   "execution_count": null,
   "metadata": {},
   "outputs": [],
   "source": [
    "image = images[2]\n",
    "target = targets[2]\n",
    "\n",
    "boxes = target['boxes'].numpy()  # Convert tensor to numpy if it's not already\n",
    "labels = target['labels'].numpy()  # Assuming you want to visualize labels as welltarget"
   ]
  },
  {
   "cell_type": "code",
   "execution_count": null,
   "metadata": {},
   "outputs": [],
   "source": [
    "# Now, visualize the image with bounding boxes\n",
    "show_image_with_boxes(image, boxes, labels)"
   ]
  },
  {
   "cell_type": "code",
   "execution_count": null,
   "metadata": {},
   "outputs": [],
   "source": [
    "import pandas as pd\n",
    "pred = pd.read_csv(\"/Users/alexis/Cranfield/AI/assignment/Faster-R-CNN/example_pred.csv\")\n",
    "pred.head()"
   ]
  },
  {
   "cell_type": "code",
   "execution_count": null,
   "metadata": {},
   "outputs": [],
   "source": [
    "def parse_prediction_string(prediction_string):\n",
    "    \"\"\"Parse la chaîne de prédiction pour extraire les bounding boxes et les scores.\"\"\"\n",
    "    items = prediction_string.split()\n",
    "    predictions = []\n",
    "\n",
    "    for i in range(0, len(items), 6):\n",
    "        class_id = int(items[i])\n",
    "        score = float(items[i + 1])\n",
    "        bbox = [float(coord) for coord in items[i + 2:i + 6]]\n",
    "        predictions.append({'class_id': class_id, 'score': score, 'bbox': bbox})\n",
    "    \n",
    "    return predictions"
   ]
  },
  {
   "cell_type": "code",
   "execution_count": null,
   "metadata": {},
   "outputs": [],
   "source": [
    "def filter_predictions_by_score(predictions, score_threshold=0.5):\n",
    "    \"\"\"Filtrer les prédictions pour ne conserver que celles avec un score supérieur au seuil.\"\"\"\n",
    "    return [pred for pred in predictions if pred['score'] > score_threshold]\n"
   ]
  },
  {
   "cell_type": "code",
   "execution_count": null,
   "metadata": {},
   "outputs": [],
   "source": [
    "import matplotlib.pyplot as plt\n",
    "import matplotlib.patches as patches\n",
    "\n",
    "def show_image_with_predictions(image, predictions):\n",
    "    \"\"\"Afficher l'image avec les bounding boxes filtrées selon le score.\"\"\"\n",
    "    fig, ax = plt.subplots(1, figsize=(10, 10))\n",
    "    ax.imshow(image, cmap='gray')\n",
    "\n",
    "    for pred in predictions:\n",
    "        x_min, y_min, x_max, y_max = pred['bbox']\n",
    "        width, height = x_max - x_min, y_max - y_min\n",
    "        rect = patches.Rectangle((x_min, y_min), width, height, linewidth=2, edgecolor='r', facecolor='none')\n",
    "        ax.add_patch(rect)\n",
    "        plt.text(x_min, y_min, f\"{pred['class_id']}: {pred['score']:.2f}\", color='white', fontsize=12, bbox=dict(facecolor='red', alpha=0.5))\n",
    "\n",
    "    plt.axis('off')\n",
    "    plt.show()\n"
   ]
  },
  {
   "cell_type": "code",
   "execution_count": null,
   "metadata": {},
   "outputs": [],
   "source": [
    "import logging\n",
    "import h5py\n",
    "\n",
    "logging.basicConfig(\n",
    "    level=logging.INFO, format=\"%(asctime)s - %(levelname)s - %(message)s\"\n",
    ")\n",
    "\n",
    "def get_pixel_array_from_hdf5(hdf5_path, filename):\n",
    "    \"\"\"\n",
    "    Retrieves the pixel array for a given filename from an HDF5 file.\n",
    "\n",
    "    Parameters:\n",
    "    - hdf5_path: Path to the HDF5 file.\n",
    "    - filename: The original file name of the DICOM image.\n",
    "\n",
    "    Returns:\n",
    "    - A numpy array of the pixel data if found; None otherwise.\n",
    "    \"\"\"\n",
    "    with h5py.File(hdf5_path, \"r\") as hdf5_file:\n",
    "        # Attempt to access the dataset directly by filename.\n",
    "        # Adjust this part if a more complex naming convention is used.\n",
    "        unique_filename = None\n",
    "        for key in hdf5_file.keys():\n",
    "            if filename in key:\n",
    "                unique_filename = key\n",
    "                break\n",
    "                \n",
    "        if unique_filename is not None:\n",
    "            pixel_array = hdf5_file[unique_filename][:]\n",
    "            return pixel_array\n",
    "        else:\n",
    "            logging.error(f\"File {filename} not found in HDF5.\")\n",
    "            return None"
   ]
  },
  {
   "cell_type": "code",
   "execution_count": null,
   "metadata": {},
   "outputs": [],
   "source": [
    "import os\n",
    "import h5py\n",
    "\n",
    "with h5py.File(\"/Volumes/ALEXIS/ai_project_cranfield/dicom_images_final.hdf5\", \"r\") as hdf5_file:\n",
    "    # Count the number of datasets (keys) directly\n",
    "    num_datasets = len(hdf5_file.keys())\n",
    "\n",
    "# Print the number of datasets\n",
    "print(num_datasets)"
   ]
  },
  {
   "cell_type": "code",
   "execution_count": null,
   "metadata": {},
   "outputs": [],
   "source": [
    "filename = \"fad39dc356aaa2da58470c6daaba8112\"  # This should be the base name of the file you're looking for.\n",
    "pixel_array = get_pixel_array_from_hdf5(\"/Volumes/ALEXIS/ai_project_cranfield/dicom_images_final.hdf5\", filename+\".dicom\")\n",
    "plt.imshow(pixel_array, cmap=\"gray\")\n",
    "\n",
    "# print the size of the image\n",
    "original_size = pixel_array.shape[:2]  # (hauteur, largeur)\n",
    "print(original_size)"
   ]
  },
  {
   "cell_type": "code",
   "execution_count": null,
   "metadata": {},
   "outputs": [],
   "source": [
    "pred = pred[pred['image_id'] == filename]"
   ]
  },
  {
   "cell_type": "code",
   "execution_count": null,
   "metadata": {},
   "outputs": [],
   "source": [
    "pred "
   ]
  },
  {
   "cell_type": "code",
   "execution_count": null,
   "metadata": {},
   "outputs": [],
   "source": [
    "# Parsez les prédictions\n",
    "predictions = parse_prediction_string(pred['PredictionString'].values[0])\n",
    "\n",
    "# Filtrez selon un score de seuil, par exemple 0.9\n",
    "filtered_predictions = filter_predictions_by_score(predictions, 0.9)\n",
    "\n",
    "boxes = [pred['bbox'] for pred in filtered_predictions]"
   ]
  },
  {
   "cell_type": "code",
   "execution_count": null,
   "metadata": {},
   "outputs": [],
   "source": []
  },
  {
   "cell_type": "code",
   "execution_count": null,
   "metadata": {},
   "outputs": [],
   "source": [
    "show_image_with_predictions(pixel_array, filtered_predictions)"
   ]
  },
  {
   "cell_type": "code",
   "execution_count": null,
   "metadata": {},
   "outputs": [],
   "source": []
  }
 ],
 "metadata": {
  "kernelspec": {
   "display_name": "chest-x-ray-abnormalities-detection",
   "language": "python",
   "name": "python3"
  },
  "language_info": {
   "codemirror_mode": {
    "name": "ipython",
    "version": 3
   },
   "file_extension": ".py",
   "mimetype": "text/x-python",
   "name": "python",
   "nbconvert_exporter": "python",
   "pygments_lexer": "ipython3",
   "version": "3.11.7"
  }
 },
 "nbformat": 4,
 "nbformat_minor": 2
}
